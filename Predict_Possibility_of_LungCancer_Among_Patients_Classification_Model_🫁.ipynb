{
  "metadata": {
    "kernelspec": {
      "language": "python",
      "display_name": "Python 3",
      "name": "python3"
    },
    "language_info": {
      "name": "python",
      "version": "3.7.12",
      "mimetype": "text/x-python",
      "codemirror_mode": {
        "name": "ipython",
        "version": 3
      },
      "pygments_lexer": "ipython3",
      "nbconvert_exporter": "python",
      "file_extension": ".py"
    },
    "kaggle": {
      "accelerator": "none",
      "dataSources": [
        {
          "sourceId": 4510352,
          "sourceType": "datasetVersion",
          "datasetId": 2636109
        }
      ],
      "dockerImageVersionId": 30301,
      "isInternetEnabled": true,
      "language": "python",
      "sourceType": "notebook",
      "isGpuEnabled": false
    },
    "colab": {
      "provenance": [],
      "include_colab_link": true
    }
  },
  "nbformat_minor": 0,
  "nbformat": 4,
  "cells": [
    {
      "cell_type": "markdown",
      "metadata": {
        "id": "view-in-github",
        "colab_type": "text"
      },
      "source": [
        "<a href=\"https://colab.research.google.com/github/Jahan08/Predicting-Likelihood-of-Patient-developing-LungCancer-Classification-Model/blob/main/Predict_Possibility_of_LungCancer_Among_Patients_Classification_Model_%F0%9F%AB%81.ipynb\" target=\"_parent\"><img src=\"https://colab.research.google.com/assets/colab-badge.svg\" alt=\"Open In Colab\"/></a>"
      ]
    },
    {
      "cell_type": "code",
      "source": [
        "from google.colab import drive\n",
        "drive.mount('/content/drive')"
      ],
      "metadata": {
        "id": "dEOdfDSYZGtn",
        "outputId": "b3a88905-32f8-42c9-b75a-71c213c31345",
        "colab": {
          "base_uri": "https://localhost:8080/"
        }
      },
      "execution_count": null,
      "outputs": [
        {
          "output_type": "stream",
          "name": "stdout",
          "text": [
            "Mounted at /content/drive\n"
          ]
        }
      ]
    },
    {
      "cell_type": "code",
      "source": [
        "import matplotlib.pyplot as plt\n",
        "import seaborn as sns\n",
        "import pandas as pd\n",
        "import numpy as np\n",
        "\n",
        "from scipy import stats\n",
        "from scipy.stats import norm, skew\n",
        "\n",
        "from sklearn.model_selection import train_test_split # 4.1\n",
        "from sklearn.linear_model import LogisticRegression  # 4.2\n",
        "from sklearn.ensemble import RandomForestClassifier  # 4.3\n",
        "from sklearn.naive_bayes import GaussianNB           # 4.4\n",
        "from sklearn.neighbors import KNeighborsClassifier   # 4.5\n",
        "from sklearn.svm import SVC                          # 4.6\n",
        "from sklearn.metrics import confusion_matrix\n",
        "from sklearn.metrics import classification_report\n",
        "from sklearn.metrics import accuracy_score\n",
        "\n",
        "%config InlineBackend.figure_format = 'retina'\n",
        "\n",
        "# Model Accuracies\n",
        "ml_accuracies = dict()"
      ],
      "metadata": {
        "_uuid": "8f2839f25d086af736a60e9eeb907d3b93b6e0e5",
        "_cell_guid": "b1076dfc-b9ad-4769-8c92-a6c4dae69d19",
        "execution": {
          "iopub.status.busy": "2024-03-01T00:56:05.807552Z",
          "iopub.execute_input": "2024-03-01T00:56:05.807875Z",
          "iopub.status.idle": "2024-03-01T00:56:05.823625Z",
          "shell.execute_reply.started": "2024-03-01T00:56:05.807849Z",
          "shell.execute_reply": "2024-03-01T00:56:05.822965Z"
        },
        "trusted": true,
        "id": "WhoNJ8GDZAUQ"
      },
      "execution_count": null,
      "outputs": []
    },
    {
      "cell_type": "code",
      "source": [
        "# Colors\n",
        "colors = ['lightcoral',\n",
        "          'brown',\n",
        "          'lightseagreen',\n",
        "          'maroon',\n",
        "          'deeppink',\n",
        "          'darkorange',\n",
        "          'royalblue',\n",
        "          'darkviolet',\n",
        "          'gold',\n",
        "          'crimson',\n",
        "          'lightsteelblue',\n",
        "          'salmon',\n",
        "          'mediumseagreen',\n",
        "          'olivedrab',\n",
        "          'blue',\n",
        "          'limegreen',\n",
        "          'slateblue',\n",
        "          'red',\n",
        "          'steelblue',\n",
        "          'teal',\n",
        "          'peru',\n",
        "          'dimgray',\n",
        "          'violet',\n",
        "          'cyan']"
      ],
      "metadata": {
        "_uuid": "8f2839f25d086af736a60e9eeb907d3b93b6e0e5",
        "_cell_guid": "b1076dfc-b9ad-4769-8c92-a6c4dae69d19",
        "_kg_hide-input": true,
        "_kg_hide-output": true,
        "execution": {
          "iopub.status.busy": "2024-03-01T00:56:05.825083Z",
          "iopub.execute_input": "2024-03-01T00:56:05.826031Z",
          "iopub.status.idle": "2024-03-01T00:56:05.830565Z",
          "shell.execute_reply.started": "2024-03-01T00:56:05.826005Z",
          "shell.execute_reply": "2024-03-01T00:56:05.829837Z"
        },
        "trusted": true,
        "id": "mi4sxj4vZAUQ"
      },
      "execution_count": null,
      "outputs": []
    },
    {
      "cell_type": "markdown",
      "source": [
        "# <p style=\"font-size:0%;color:white;\"><b> 1 - Data Mining </b></p>\n",
        "\n",
        "<a name='DM'>\n",
        "    \n",
        "<div style=\"color:white;display:width;border-radius:10px;\n",
        "            background-color:#09E5E8;\n",
        "            font-size:200%;\n",
        "            font-family:computermodern;\n",
        "            letter-spacing:0.75px\">\n",
        "    <p style=\"padding: 8px;color:black;\"><b> 1 | Data Mining </b></p>\n",
        "</div>\n",
        "\n",
        "\n",
        "- This dataset contains information on patients with lung cancer, including their age, gender, air pollution exposure, alcohol use, dust allergy, occupational hazards, genetic risk, chronic lung disease, balanced diet, obesity, smoking status, passive smoker status, chest pain, coughing of blood, fatigue levels, weight loss, shortness of breath, wheezing, swallowing difficulty, clubbing of finger nails, frequent colds, dry coughs, and snoring.\n",
        "    \n",
        "\n",
        "|   Columns   |   Meaning   |\n",
        "| ----------- | ----------- |\n",
        "| Age           | The age of the patient. (Numeric)       |\n",
        "| Gender        |  The gender of the patient. (Categorical)        |\n",
        "| Air Pollution | The level of air pollution exposure of the patient. (Categorical)|\n",
        "| Alcohol use   | The level of alcohol use of the patient. (Categorical)|\n",
        "| Dust Allergy  |The level of dust allergy of the patient. (Categorical)|\n",
        "| ccuPational Hazards  | The level of occupational hazards of the patient. (Categorical)|\n",
        "| Genetic Risk         | The level of genetic risk of the patient. (Categorical)|\n",
        "| chronic Lung Disease | The level of chronic lung disease of the patient. (Categorical)|\n",
        "| Balanced Diet | The level of balanced diet of the patient. (Categorical)|\n",
        "| Obesity       | The level of obesity of the patient. (Categorical)|\n",
        "| Smoking       | The level of smoking of the patient. (Categorical)|\n",
        "| Passive Smoker       | The level of passive smoker of the patient. (Categorical)|\n",
        "| Chest Pain           | The level of chest pain of the patient. (Categorical)|\n",
        "| Coughing of Blood    | The level of coughing of blood of the patient. (Categorical)|\n",
        "| Fatigue       | The level of fatigue of the patient. (Categorical)|\n",
        "| Weight Loss   | The level of weight loss of the patient. (Categorical)|\n",
        "| Shortness of Breath  | The level of shortness of breath of the patient. (Categorical)|\n",
        "| Wheezing      | The level of wheezing of the patient. (Categorical)|\n",
        "| Swallowing Difficulty | The level of swallowing difficulty of the patient. (Categorical)|\n",
        "| Clubbing of Finger Nails | The level of clubbing of finger nails of the patient. (Categorical)|\n",
        "\n",
        "\n",
        "- The level of cancer severity column, is divided into three levels, `low`, `medium` and `high`. We'll analyze and develop a predictive method for the level of severity of the cancer. By analyzing this data we'll gain insight into what causes lung cancer and how best to prevent it.\n",
        "    \n",
        "# <p style=\"font-size:0%;color:white;\"><b> 2 - Importing and Initial Analysis </b></p>\n",
        "***\n",
        "<a name='IIA'>\n",
        "<div style=\"color:white;display:width;border-radius:10px;\n",
        "            background-color:#09E5E8;\n",
        "            font-size:200%;\n",
        "            font-family:computermodern;\n",
        "            letter-spacing:0.75px\">\n",
        "    <p style=\"padding: 8px;color:black;\"><b> 2 | Importing and Initial Analysis </b></p>\n",
        "</div>"
      ],
      "metadata": {
        "id": "xnHjX0tkZAUR"
      }
    },
    {
      "cell_type": "code",
      "source": [
        "df = pd.read_csv(\"/content/drive/MyDrive/Lung-Cancer-Patients-Data/cancer patient data sets.csv\", index_col='index')\n",
        "\n",
        "# Index Column now refers to patient\n",
        "df.drop(\"Patient Id\", axis=1, inplace=True)\n",
        "\n",
        "# cleaning column names\n",
        "df.rename(columns=str.lower, inplace=True)\n",
        "df.rename(columns={col: col.replace(\" \", \"_\") for col in df.columns}, inplace=True)\n",
        "\n",
        "display(df)"
      ],
      "metadata": {
        "execution": {
          "iopub.status.busy": "2024-03-01T00:56:05.831456Z",
          "iopub.execute_input": "2024-03-01T00:56:05.832298Z",
          "iopub.status.idle": "2024-03-01T00:56:05.873436Z",
          "shell.execute_reply.started": "2024-03-01T00:56:05.832272Z",
          "shell.execute_reply": "2024-03-01T00:56:05.872598Z"
        },
        "trusted": true,
        "id": "O_BaHNoiZAUR",
        "outputId": "ab2d968a-46a9-4c09-910c-9c31cd952ad8",
        "colab": {
          "base_uri": "https://localhost:8080/",
          "height": 475
        }
      },
      "execution_count": null,
      "outputs": [
        {
          "output_type": "display_data",
          "data": {
            "text/plain": [
              "       age  gender  air_pollution  alcohol_use  dust_allergy  \\\n",
              "index                                                          \n",
              "0       33       1              2            4             5   \n",
              "1       17       1              3            1             5   \n",
              "2       35       1              4            5             6   \n",
              "3       37       1              7            7             7   \n",
              "4       46       1              6            8             7   \n",
              "...    ...     ...            ...          ...           ...   \n",
              "995     44       1              6            7             7   \n",
              "996     37       2              6            8             7   \n",
              "997     25       2              4            5             6   \n",
              "998     18       2              6            8             7   \n",
              "999     47       1              6            5             6   \n",
              "\n",
              "       occupational_hazards  genetic_risk  chronic_lung_disease  \\\n",
              "index                                                             \n",
              "0                         4             3                     2   \n",
              "1                         3             4                     2   \n",
              "2                         5             5                     4   \n",
              "3                         7             6                     7   \n",
              "4                         7             7                     6   \n",
              "...                     ...           ...                   ...   \n",
              "995                       7             7                     6   \n",
              "996                       7             7                     6   \n",
              "997                       5             5                     4   \n",
              "998                       7             7                     6   \n",
              "999                       5             5                     4   \n",
              "\n",
              "       balanced_diet  obesity  ...  fatigue  weight_loss  shortness_of_breath  \\\n",
              "index                          ...                                              \n",
              "0                  2        4  ...        3            4                    2   \n",
              "1                  2        2  ...        1            3                    7   \n",
              "2                  6        7  ...        8            7                    9   \n",
              "3                  7        7  ...        4            2                    3   \n",
              "4                  7        7  ...        3            2                    4   \n",
              "...              ...      ...  ...      ...          ...                  ...   \n",
              "995                7        7  ...        5            3                    2   \n",
              "996                7        7  ...        9            6                    5   \n",
              "997                6        7  ...        8            7                    9   \n",
              "998                7        7  ...        3            2                    4   \n",
              "999                6        7  ...        8            7                    9   \n",
              "\n",
              "       wheezing  swallowing_difficulty  clubbing_of_finger_nails  \\\n",
              "index                                                              \n",
              "0             2                      3                         1   \n",
              "1             8                      6                         2   \n",
              "2             2                      1                         4   \n",
              "3             1                      4                         5   \n",
              "4             1                      4                         2   \n",
              "...         ...                    ...                       ...   \n",
              "995           7                      8                         2   \n",
              "996           7                      2                         4   \n",
              "997           2                      1                         4   \n",
              "998           1                      4                         2   \n",
              "999           2                      1                         4   \n",
              "\n",
              "       frequent_cold  dry_cough  snoring   level  \n",
              "index                                             \n",
              "0                  2          3        4     Low  \n",
              "1                  1          7        2  Medium  \n",
              "2                  6          7        2    High  \n",
              "3                  6          7        5    High  \n",
              "4                  4          2        3    High  \n",
              "...              ...        ...      ...     ...  \n",
              "995                4          5        3    High  \n",
              "996                3          1        4    High  \n",
              "997                6          7        2    High  \n",
              "998                4          2        3    High  \n",
              "999                6          7        2    High  \n",
              "\n",
              "[1000 rows x 24 columns]"
            ],
            "text/html": [
              "\n",
              "  <div id=\"df-798cd1a8-97e6-4798-81fd-e6e48a526f8b\" class=\"colab-df-container\">\n",
              "    <div>\n",
              "<style scoped>\n",
              "    .dataframe tbody tr th:only-of-type {\n",
              "        vertical-align: middle;\n",
              "    }\n",
              "\n",
              "    .dataframe tbody tr th {\n",
              "        vertical-align: top;\n",
              "    }\n",
              "\n",
              "    .dataframe thead th {\n",
              "        text-align: right;\n",
              "    }\n",
              "</style>\n",
              "<table border=\"1\" class=\"dataframe\">\n",
              "  <thead>\n",
              "    <tr style=\"text-align: right;\">\n",
              "      <th></th>\n",
              "      <th>age</th>\n",
              "      <th>gender</th>\n",
              "      <th>air_pollution</th>\n",
              "      <th>alcohol_use</th>\n",
              "      <th>dust_allergy</th>\n",
              "      <th>occupational_hazards</th>\n",
              "      <th>genetic_risk</th>\n",
              "      <th>chronic_lung_disease</th>\n",
              "      <th>balanced_diet</th>\n",
              "      <th>obesity</th>\n",
              "      <th>...</th>\n",
              "      <th>fatigue</th>\n",
              "      <th>weight_loss</th>\n",
              "      <th>shortness_of_breath</th>\n",
              "      <th>wheezing</th>\n",
              "      <th>swallowing_difficulty</th>\n",
              "      <th>clubbing_of_finger_nails</th>\n",
              "      <th>frequent_cold</th>\n",
              "      <th>dry_cough</th>\n",
              "      <th>snoring</th>\n",
              "      <th>level</th>\n",
              "    </tr>\n",
              "    <tr>\n",
              "      <th>index</th>\n",
              "      <th></th>\n",
              "      <th></th>\n",
              "      <th></th>\n",
              "      <th></th>\n",
              "      <th></th>\n",
              "      <th></th>\n",
              "      <th></th>\n",
              "      <th></th>\n",
              "      <th></th>\n",
              "      <th></th>\n",
              "      <th></th>\n",
              "      <th></th>\n",
              "      <th></th>\n",
              "      <th></th>\n",
              "      <th></th>\n",
              "      <th></th>\n",
              "      <th></th>\n",
              "      <th></th>\n",
              "      <th></th>\n",
              "      <th></th>\n",
              "      <th></th>\n",
              "    </tr>\n",
              "  </thead>\n",
              "  <tbody>\n",
              "    <tr>\n",
              "      <th>0</th>\n",
              "      <td>33</td>\n",
              "      <td>1</td>\n",
              "      <td>2</td>\n",
              "      <td>4</td>\n",
              "      <td>5</td>\n",
              "      <td>4</td>\n",
              "      <td>3</td>\n",
              "      <td>2</td>\n",
              "      <td>2</td>\n",
              "      <td>4</td>\n",
              "      <td>...</td>\n",
              "      <td>3</td>\n",
              "      <td>4</td>\n",
              "      <td>2</td>\n",
              "      <td>2</td>\n",
              "      <td>3</td>\n",
              "      <td>1</td>\n",
              "      <td>2</td>\n",
              "      <td>3</td>\n",
              "      <td>4</td>\n",
              "      <td>Low</td>\n",
              "    </tr>\n",
              "    <tr>\n",
              "      <th>1</th>\n",
              "      <td>17</td>\n",
              "      <td>1</td>\n",
              "      <td>3</td>\n",
              "      <td>1</td>\n",
              "      <td>5</td>\n",
              "      <td>3</td>\n",
              "      <td>4</td>\n",
              "      <td>2</td>\n",
              "      <td>2</td>\n",
              "      <td>2</td>\n",
              "      <td>...</td>\n",
              "      <td>1</td>\n",
              "      <td>3</td>\n",
              "      <td>7</td>\n",
              "      <td>8</td>\n",
              "      <td>6</td>\n",
              "      <td>2</td>\n",
              "      <td>1</td>\n",
              "      <td>7</td>\n",
              "      <td>2</td>\n",
              "      <td>Medium</td>\n",
              "    </tr>\n",
              "    <tr>\n",
              "      <th>2</th>\n",
              "      <td>35</td>\n",
              "      <td>1</td>\n",
              "      <td>4</td>\n",
              "      <td>5</td>\n",
              "      <td>6</td>\n",
              "      <td>5</td>\n",
              "      <td>5</td>\n",
              "      <td>4</td>\n",
              "      <td>6</td>\n",
              "      <td>7</td>\n",
              "      <td>...</td>\n",
              "      <td>8</td>\n",
              "      <td>7</td>\n",
              "      <td>9</td>\n",
              "      <td>2</td>\n",
              "      <td>1</td>\n",
              "      <td>4</td>\n",
              "      <td>6</td>\n",
              "      <td>7</td>\n",
              "      <td>2</td>\n",
              "      <td>High</td>\n",
              "    </tr>\n",
              "    <tr>\n",
              "      <th>3</th>\n",
              "      <td>37</td>\n",
              "      <td>1</td>\n",
              "      <td>7</td>\n",
              "      <td>7</td>\n",
              "      <td>7</td>\n",
              "      <td>7</td>\n",
              "      <td>6</td>\n",
              "      <td>7</td>\n",
              "      <td>7</td>\n",
              "      <td>7</td>\n",
              "      <td>...</td>\n",
              "      <td>4</td>\n",
              "      <td>2</td>\n",
              "      <td>3</td>\n",
              "      <td>1</td>\n",
              "      <td>4</td>\n",
              "      <td>5</td>\n",
              "      <td>6</td>\n",
              "      <td>7</td>\n",
              "      <td>5</td>\n",
              "      <td>High</td>\n",
              "    </tr>\n",
              "    <tr>\n",
              "      <th>4</th>\n",
              "      <td>46</td>\n",
              "      <td>1</td>\n",
              "      <td>6</td>\n",
              "      <td>8</td>\n",
              "      <td>7</td>\n",
              "      <td>7</td>\n",
              "      <td>7</td>\n",
              "      <td>6</td>\n",
              "      <td>7</td>\n",
              "      <td>7</td>\n",
              "      <td>...</td>\n",
              "      <td>3</td>\n",
              "      <td>2</td>\n",
              "      <td>4</td>\n",
              "      <td>1</td>\n",
              "      <td>4</td>\n",
              "      <td>2</td>\n",
              "      <td>4</td>\n",
              "      <td>2</td>\n",
              "      <td>3</td>\n",
              "      <td>High</td>\n",
              "    </tr>\n",
              "    <tr>\n",
              "      <th>...</th>\n",
              "      <td>...</td>\n",
              "      <td>...</td>\n",
              "      <td>...</td>\n",
              "      <td>...</td>\n",
              "      <td>...</td>\n",
              "      <td>...</td>\n",
              "      <td>...</td>\n",
              "      <td>...</td>\n",
              "      <td>...</td>\n",
              "      <td>...</td>\n",
              "      <td>...</td>\n",
              "      <td>...</td>\n",
              "      <td>...</td>\n",
              "      <td>...</td>\n",
              "      <td>...</td>\n",
              "      <td>...</td>\n",
              "      <td>...</td>\n",
              "      <td>...</td>\n",
              "      <td>...</td>\n",
              "      <td>...</td>\n",
              "      <td>...</td>\n",
              "    </tr>\n",
              "    <tr>\n",
              "      <th>995</th>\n",
              "      <td>44</td>\n",
              "      <td>1</td>\n",
              "      <td>6</td>\n",
              "      <td>7</td>\n",
              "      <td>7</td>\n",
              "      <td>7</td>\n",
              "      <td>7</td>\n",
              "      <td>6</td>\n",
              "      <td>7</td>\n",
              "      <td>7</td>\n",
              "      <td>...</td>\n",
              "      <td>5</td>\n",
              "      <td>3</td>\n",
              "      <td>2</td>\n",
              "      <td>7</td>\n",
              "      <td>8</td>\n",
              "      <td>2</td>\n",
              "      <td>4</td>\n",
              "      <td>5</td>\n",
              "      <td>3</td>\n",
              "      <td>High</td>\n",
              "    </tr>\n",
              "    <tr>\n",
              "      <th>996</th>\n",
              "      <td>37</td>\n",
              "      <td>2</td>\n",
              "      <td>6</td>\n",
              "      <td>8</td>\n",
              "      <td>7</td>\n",
              "      <td>7</td>\n",
              "      <td>7</td>\n",
              "      <td>6</td>\n",
              "      <td>7</td>\n",
              "      <td>7</td>\n",
              "      <td>...</td>\n",
              "      <td>9</td>\n",
              "      <td>6</td>\n",
              "      <td>5</td>\n",
              "      <td>7</td>\n",
              "      <td>2</td>\n",
              "      <td>4</td>\n",
              "      <td>3</td>\n",
              "      <td>1</td>\n",
              "      <td>4</td>\n",
              "      <td>High</td>\n",
              "    </tr>\n",
              "    <tr>\n",
              "      <th>997</th>\n",
              "      <td>25</td>\n",
              "      <td>2</td>\n",
              "      <td>4</td>\n",
              "      <td>5</td>\n",
              "      <td>6</td>\n",
              "      <td>5</td>\n",
              "      <td>5</td>\n",
              "      <td>4</td>\n",
              "      <td>6</td>\n",
              "      <td>7</td>\n",
              "      <td>...</td>\n",
              "      <td>8</td>\n",
              "      <td>7</td>\n",
              "      <td>9</td>\n",
              "      <td>2</td>\n",
              "      <td>1</td>\n",
              "      <td>4</td>\n",
              "      <td>6</td>\n",
              "      <td>7</td>\n",
              "      <td>2</td>\n",
              "      <td>High</td>\n",
              "    </tr>\n",
              "    <tr>\n",
              "      <th>998</th>\n",
              "      <td>18</td>\n",
              "      <td>2</td>\n",
              "      <td>6</td>\n",
              "      <td>8</td>\n",
              "      <td>7</td>\n",
              "      <td>7</td>\n",
              "      <td>7</td>\n",
              "      <td>6</td>\n",
              "      <td>7</td>\n",
              "      <td>7</td>\n",
              "      <td>...</td>\n",
              "      <td>3</td>\n",
              "      <td>2</td>\n",
              "      <td>4</td>\n",
              "      <td>1</td>\n",
              "      <td>4</td>\n",
              "      <td>2</td>\n",
              "      <td>4</td>\n",
              "      <td>2</td>\n",
              "      <td>3</td>\n",
              "      <td>High</td>\n",
              "    </tr>\n",
              "    <tr>\n",
              "      <th>999</th>\n",
              "      <td>47</td>\n",
              "      <td>1</td>\n",
              "      <td>6</td>\n",
              "      <td>5</td>\n",
              "      <td>6</td>\n",
              "      <td>5</td>\n",
              "      <td>5</td>\n",
              "      <td>4</td>\n",
              "      <td>6</td>\n",
              "      <td>7</td>\n",
              "      <td>...</td>\n",
              "      <td>8</td>\n",
              "      <td>7</td>\n",
              "      <td>9</td>\n",
              "      <td>2</td>\n",
              "      <td>1</td>\n",
              "      <td>4</td>\n",
              "      <td>6</td>\n",
              "      <td>7</td>\n",
              "      <td>2</td>\n",
              "      <td>High</td>\n",
              "    </tr>\n",
              "  </tbody>\n",
              "</table>\n",
              "<p>1000 rows × 24 columns</p>\n",
              "</div>\n",
              "    <div class=\"colab-df-buttons\">\n",
              "\n",
              "  <div class=\"colab-df-container\">\n",
              "    <button class=\"colab-df-convert\" onclick=\"convertToInteractive('df-798cd1a8-97e6-4798-81fd-e6e48a526f8b')\"\n",
              "            title=\"Convert this dataframe to an interactive table.\"\n",
              "            style=\"display:none;\">\n",
              "\n",
              "  <svg xmlns=\"http://www.w3.org/2000/svg\" height=\"24px\" viewBox=\"0 -960 960 960\">\n",
              "    <path d=\"M120-120v-720h720v720H120Zm60-500h600v-160H180v160Zm220 220h160v-160H400v160Zm0 220h160v-160H400v160ZM180-400h160v-160H180v160Zm440 0h160v-160H620v160ZM180-180h160v-160H180v160Zm440 0h160v-160H620v160Z\"/>\n",
              "  </svg>\n",
              "    </button>\n",
              "\n",
              "  <style>\n",
              "    .colab-df-container {\n",
              "      display:flex;\n",
              "      gap: 12px;\n",
              "    }\n",
              "\n",
              "    .colab-df-convert {\n",
              "      background-color: #E8F0FE;\n",
              "      border: none;\n",
              "      border-radius: 50%;\n",
              "      cursor: pointer;\n",
              "      display: none;\n",
              "      fill: #1967D2;\n",
              "      height: 32px;\n",
              "      padding: 0 0 0 0;\n",
              "      width: 32px;\n",
              "    }\n",
              "\n",
              "    .colab-df-convert:hover {\n",
              "      background-color: #E2EBFA;\n",
              "      box-shadow: 0px 1px 2px rgba(60, 64, 67, 0.3), 0px 1px 3px 1px rgba(60, 64, 67, 0.15);\n",
              "      fill: #174EA6;\n",
              "    }\n",
              "\n",
              "    .colab-df-buttons div {\n",
              "      margin-bottom: 4px;\n",
              "    }\n",
              "\n",
              "    [theme=dark] .colab-df-convert {\n",
              "      background-color: #3B4455;\n",
              "      fill: #D2E3FC;\n",
              "    }\n",
              "\n",
              "    [theme=dark] .colab-df-convert:hover {\n",
              "      background-color: #434B5C;\n",
              "      box-shadow: 0px 1px 3px 1px rgba(0, 0, 0, 0.15);\n",
              "      filter: drop-shadow(0px 1px 2px rgba(0, 0, 0, 0.3));\n",
              "      fill: #FFFFFF;\n",
              "    }\n",
              "  </style>\n",
              "\n",
              "    <script>\n",
              "      const buttonEl =\n",
              "        document.querySelector('#df-798cd1a8-97e6-4798-81fd-e6e48a526f8b button.colab-df-convert');\n",
              "      buttonEl.style.display =\n",
              "        google.colab.kernel.accessAllowed ? 'block' : 'none';\n",
              "\n",
              "      async function convertToInteractive(key) {\n",
              "        const element = document.querySelector('#df-798cd1a8-97e6-4798-81fd-e6e48a526f8b');\n",
              "        const dataTable =\n",
              "          await google.colab.kernel.invokeFunction('convertToInteractive',\n",
              "                                                    [key], {});\n",
              "        if (!dataTable) return;\n",
              "\n",
              "        const docLinkHtml = 'Like what you see? Visit the ' +\n",
              "          '<a target=\"_blank\" href=https://colab.research.google.com/notebooks/data_table.ipynb>data table notebook</a>'\n",
              "          + ' to learn more about interactive tables.';\n",
              "        element.innerHTML = '';\n",
              "        dataTable['output_type'] = 'display_data';\n",
              "        await google.colab.output.renderOutput(dataTable, element);\n",
              "        const docLink = document.createElement('div');\n",
              "        docLink.innerHTML = docLinkHtml;\n",
              "        element.appendChild(docLink);\n",
              "      }\n",
              "    </script>\n",
              "  </div>\n",
              "\n",
              "\n",
              "<div id=\"df-e21add48-f4e1-443a-9d0d-d9f136e33cf8\">\n",
              "  <button class=\"colab-df-quickchart\" onclick=\"quickchart('df-e21add48-f4e1-443a-9d0d-d9f136e33cf8')\"\n",
              "            title=\"Suggest charts\"\n",
              "            style=\"display:none;\">\n",
              "\n",
              "<svg xmlns=\"http://www.w3.org/2000/svg\" height=\"24px\"viewBox=\"0 0 24 24\"\n",
              "     width=\"24px\">\n",
              "    <g>\n",
              "        <path d=\"M19 3H5c-1.1 0-2 .9-2 2v14c0 1.1.9 2 2 2h14c1.1 0 2-.9 2-2V5c0-1.1-.9-2-2-2zM9 17H7v-7h2v7zm4 0h-2V7h2v10zm4 0h-2v-4h2v4z\"/>\n",
              "    </g>\n",
              "</svg>\n",
              "  </button>\n",
              "\n",
              "<style>\n",
              "  .colab-df-quickchart {\n",
              "      --bg-color: #E8F0FE;\n",
              "      --fill-color: #1967D2;\n",
              "      --hover-bg-color: #E2EBFA;\n",
              "      --hover-fill-color: #174EA6;\n",
              "      --disabled-fill-color: #AAA;\n",
              "      --disabled-bg-color: #DDD;\n",
              "  }\n",
              "\n",
              "  [theme=dark] .colab-df-quickchart {\n",
              "      --bg-color: #3B4455;\n",
              "      --fill-color: #D2E3FC;\n",
              "      --hover-bg-color: #434B5C;\n",
              "      --hover-fill-color: #FFFFFF;\n",
              "      --disabled-bg-color: #3B4455;\n",
              "      --disabled-fill-color: #666;\n",
              "  }\n",
              "\n",
              "  .colab-df-quickchart {\n",
              "    background-color: var(--bg-color);\n",
              "    border: none;\n",
              "    border-radius: 50%;\n",
              "    cursor: pointer;\n",
              "    display: none;\n",
              "    fill: var(--fill-color);\n",
              "    height: 32px;\n",
              "    padding: 0;\n",
              "    width: 32px;\n",
              "  }\n",
              "\n",
              "  .colab-df-quickchart:hover {\n",
              "    background-color: var(--hover-bg-color);\n",
              "    box-shadow: 0 1px 2px rgba(60, 64, 67, 0.3), 0 1px 3px 1px rgba(60, 64, 67, 0.15);\n",
              "    fill: var(--button-hover-fill-color);\n",
              "  }\n",
              "\n",
              "  .colab-df-quickchart-complete:disabled,\n",
              "  .colab-df-quickchart-complete:disabled:hover {\n",
              "    background-color: var(--disabled-bg-color);\n",
              "    fill: var(--disabled-fill-color);\n",
              "    box-shadow: none;\n",
              "  }\n",
              "\n",
              "  .colab-df-spinner {\n",
              "    border: 2px solid var(--fill-color);\n",
              "    border-color: transparent;\n",
              "    border-bottom-color: var(--fill-color);\n",
              "    animation:\n",
              "      spin 1s steps(1) infinite;\n",
              "  }\n",
              "\n",
              "  @keyframes spin {\n",
              "    0% {\n",
              "      border-color: transparent;\n",
              "      border-bottom-color: var(--fill-color);\n",
              "      border-left-color: var(--fill-color);\n",
              "    }\n",
              "    20% {\n",
              "      border-color: transparent;\n",
              "      border-left-color: var(--fill-color);\n",
              "      border-top-color: var(--fill-color);\n",
              "    }\n",
              "    30% {\n",
              "      border-color: transparent;\n",
              "      border-left-color: var(--fill-color);\n",
              "      border-top-color: var(--fill-color);\n",
              "      border-right-color: var(--fill-color);\n",
              "    }\n",
              "    40% {\n",
              "      border-color: transparent;\n",
              "      border-right-color: var(--fill-color);\n",
              "      border-top-color: var(--fill-color);\n",
              "    }\n",
              "    60% {\n",
              "      border-color: transparent;\n",
              "      border-right-color: var(--fill-color);\n",
              "    }\n",
              "    80% {\n",
              "      border-color: transparent;\n",
              "      border-right-color: var(--fill-color);\n",
              "      border-bottom-color: var(--fill-color);\n",
              "    }\n",
              "    90% {\n",
              "      border-color: transparent;\n",
              "      border-bottom-color: var(--fill-color);\n",
              "    }\n",
              "  }\n",
              "</style>\n",
              "\n",
              "  <script>\n",
              "    async function quickchart(key) {\n",
              "      const quickchartButtonEl =\n",
              "        document.querySelector('#' + key + ' button');\n",
              "      quickchartButtonEl.disabled = true;  // To prevent multiple clicks.\n",
              "      quickchartButtonEl.classList.add('colab-df-spinner');\n",
              "      try {\n",
              "        const charts = await google.colab.kernel.invokeFunction(\n",
              "            'suggestCharts', [key], {});\n",
              "      } catch (error) {\n",
              "        console.error('Error during call to suggestCharts:', error);\n",
              "      }\n",
              "      quickchartButtonEl.classList.remove('colab-df-spinner');\n",
              "      quickchartButtonEl.classList.add('colab-df-quickchart-complete');\n",
              "    }\n",
              "    (() => {\n",
              "      let quickchartButtonEl =\n",
              "        document.querySelector('#df-e21add48-f4e1-443a-9d0d-d9f136e33cf8 button');\n",
              "      quickchartButtonEl.style.display =\n",
              "        google.colab.kernel.accessAllowed ? 'block' : 'none';\n",
              "    })();\n",
              "  </script>\n",
              "</div>\n",
              "\n",
              "  <div id=\"id_0f10c7b0-ec96-41f6-aa04-e6ff546377aa\">\n",
              "    <style>\n",
              "      .colab-df-generate {\n",
              "        background-color: #E8F0FE;\n",
              "        border: none;\n",
              "        border-radius: 50%;\n",
              "        cursor: pointer;\n",
              "        display: none;\n",
              "        fill: #1967D2;\n",
              "        height: 32px;\n",
              "        padding: 0 0 0 0;\n",
              "        width: 32px;\n",
              "      }\n",
              "\n",
              "      .colab-df-generate:hover {\n",
              "        background-color: #E2EBFA;\n",
              "        box-shadow: 0px 1px 2px rgba(60, 64, 67, 0.3), 0px 1px 3px 1px rgba(60, 64, 67, 0.15);\n",
              "        fill: #174EA6;\n",
              "      }\n",
              "\n",
              "      [theme=dark] .colab-df-generate {\n",
              "        background-color: #3B4455;\n",
              "        fill: #D2E3FC;\n",
              "      }\n",
              "\n",
              "      [theme=dark] .colab-df-generate:hover {\n",
              "        background-color: #434B5C;\n",
              "        box-shadow: 0px 1px 3px 1px rgba(0, 0, 0, 0.15);\n",
              "        filter: drop-shadow(0px 1px 2px rgba(0, 0, 0, 0.3));\n",
              "        fill: #FFFFFF;\n",
              "      }\n",
              "    </style>\n",
              "    <button class=\"colab-df-generate\" onclick=\"generateWithVariable('df')\"\n",
              "            title=\"Generate code using this dataframe.\"\n",
              "            style=\"display:none;\">\n",
              "\n",
              "  <svg xmlns=\"http://www.w3.org/2000/svg\" height=\"24px\"viewBox=\"0 0 24 24\"\n",
              "       width=\"24px\">\n",
              "    <path d=\"M7,19H8.4L18.45,9,17,7.55,7,17.6ZM5,21V16.75L18.45,3.32a2,2,0,0,1,2.83,0l1.4,1.43a1.91,1.91,0,0,1,.58,1.4,1.91,1.91,0,0,1-.58,1.4L9.25,21ZM18.45,9,17,7.55Zm-12,3A5.31,5.31,0,0,0,4.9,8.1,5.31,5.31,0,0,0,1,6.5,5.31,5.31,0,0,0,4.9,4.9,5.31,5.31,0,0,0,6.5,1,5.31,5.31,0,0,0,8.1,4.9,5.31,5.31,0,0,0,12,6.5,5.46,5.46,0,0,0,6.5,12Z\"/>\n",
              "  </svg>\n",
              "    </button>\n",
              "    <script>\n",
              "      (() => {\n",
              "      const buttonEl =\n",
              "        document.querySelector('#id_0f10c7b0-ec96-41f6-aa04-e6ff546377aa button.colab-df-generate');\n",
              "      buttonEl.style.display =\n",
              "        google.colab.kernel.accessAllowed ? 'block' : 'none';\n",
              "\n",
              "      buttonEl.onclick = () => {\n",
              "        google.colab.notebook.generateWithVariable('df');\n",
              "      }\n",
              "      })();\n",
              "    </script>\n",
              "  </div>\n",
              "\n",
              "    </div>\n",
              "  </div>\n"
            ],
            "application/vnd.google.colaboratory.intrinsic+json": {
              "type": "dataframe",
              "variable_name": "df"
            }
          },
          "metadata": {}
        }
      ]
    },
    {
      "cell_type": "code",
      "source": [
        "print(df.info())"
      ],
      "metadata": {
        "execution": {
          "iopub.status.busy": "2024-03-01T00:56:05.874445Z",
          "iopub.execute_input": "2024-03-01T00:56:05.875489Z",
          "iopub.status.idle": "2024-03-01T00:56:05.888333Z",
          "shell.execute_reply.started": "2024-03-01T00:56:05.875436Z",
          "shell.execute_reply": "2024-03-01T00:56:05.886965Z"
        },
        "trusted": true,
        "id": "MCKxJDFzZAUS",
        "outputId": "7df8e26e-555d-42f2-bec3-c57270351295",
        "colab": {
          "base_uri": "https://localhost:8080/"
        }
      },
      "execution_count": null,
      "outputs": [
        {
          "output_type": "stream",
          "name": "stdout",
          "text": [
            "<class 'pandas.core.frame.DataFrame'>\n",
            "Index: 1000 entries, 0 to 999\n",
            "Data columns (total 24 columns):\n",
            " #   Column                    Non-Null Count  Dtype \n",
            "---  ------                    --------------  ----- \n",
            " 0   age                       1000 non-null   int64 \n",
            " 1   gender                    1000 non-null   int64 \n",
            " 2   air_pollution             1000 non-null   int64 \n",
            " 3   alcohol_use               1000 non-null   int64 \n",
            " 4   dust_allergy              1000 non-null   int64 \n",
            " 5   occupational_hazards      1000 non-null   int64 \n",
            " 6   genetic_risk              1000 non-null   int64 \n",
            " 7   chronic_lung_disease      1000 non-null   int64 \n",
            " 8   balanced_diet             1000 non-null   int64 \n",
            " 9   obesity                   1000 non-null   int64 \n",
            " 10  smoking                   1000 non-null   int64 \n",
            " 11  passive_smoker            1000 non-null   int64 \n",
            " 12  chest_pain                1000 non-null   int64 \n",
            " 13  coughing_of_blood         1000 non-null   int64 \n",
            " 14  fatigue                   1000 non-null   int64 \n",
            " 15  weight_loss               1000 non-null   int64 \n",
            " 16  shortness_of_breath       1000 non-null   int64 \n",
            " 17  wheezing                  1000 non-null   int64 \n",
            " 18  swallowing_difficulty     1000 non-null   int64 \n",
            " 19  clubbing_of_finger_nails  1000 non-null   int64 \n",
            " 20  frequent_cold             1000 non-null   int64 \n",
            " 21  dry_cough                 1000 non-null   int64 \n",
            " 22  snoring                   1000 non-null   int64 \n",
            " 23  level                     1000 non-null   object\n",
            "dtypes: int64(23), object(1)\n",
            "memory usage: 195.3+ KB\n",
            "None\n"
          ]
        }
      ]
    },
    {
      "cell_type": "code",
      "source": [
        "print('Cancer Levels: ', df['level'].unique())\n",
        "\n",
        "# Replacing levels of numeric int\n",
        "mapping = {'High': 2, 'Medium': 1, 'Low': 0}\n",
        "df[\"level\"].replace(mapping, inplace=True)\n",
        "print('Cancer Levels: ', df['level'].unique())"
      ],
      "metadata": {
        "execution": {
          "iopub.status.busy": "2024-03-01T00:56:05.890482Z",
          "iopub.execute_input": "2024-03-01T00:56:05.891462Z",
          "iopub.status.idle": "2024-03-01T00:56:05.899533Z",
          "shell.execute_reply.started": "2024-03-01T00:56:05.891419Z",
          "shell.execute_reply": "2024-03-01T00:56:05.898565Z"
        },
        "trusted": true,
        "id": "-9Qq7L_8ZAUS",
        "outputId": "8f260fc1-92a5-407a-d2af-5582d3806048",
        "colab": {
          "base_uri": "https://localhost:8080/"
        }
      },
      "execution_count": null,
      "outputs": [
        {
          "output_type": "stream",
          "name": "stdout",
          "text": [
            "Cancer Levels:  ['Low' 'Medium' 'High']\n",
            "Cancer Levels:  [0 1 2]\n"
          ]
        },
        {
          "output_type": "stream",
          "name": "stderr",
          "text": [
            "<ipython-input-6-1fed039f1de8>:5: FutureWarning: A value is trying to be set on a copy of a DataFrame or Series through chained assignment using an inplace method.\n",
            "The behavior will change in pandas 3.0. This inplace method will never work because the intermediate object on which we are setting values always behaves as a copy.\n",
            "\n",
            "For example, when doing 'df[col].method(value, inplace=True)', try using 'df.method({col: value}, inplace=True)' or df[col] = df[col].method(value) instead, to perform the operation inplace on the original object.\n",
            "\n",
            "\n",
            "  df[\"level\"].replace(mapping, inplace=True)\n",
            "<ipython-input-6-1fed039f1de8>:5: FutureWarning: Downcasting behavior in `replace` is deprecated and will be removed in a future version. To retain the old behavior, explicitly call `result.infer_objects(copy=False)`. To opt-in to the future behavior, set `pd.set_option('future.no_silent_downcasting', True)`\n",
            "  df[\"level\"].replace(mapping, inplace=True)\n"
          ]
        }
      ]
    },
    {
      "cell_type": "code",
      "source": [
        "round(df.describe().iloc[1:, ].T, 3).style.format(precision=3).background_gradient(axis=1)"
      ],
      "metadata": {
        "execution": {
          "iopub.status.busy": "2024-03-01T00:56:05.901148Z",
          "iopub.execute_input": "2024-03-01T00:56:05.901778Z",
          "iopub.status.idle": "2024-03-01T00:56:05.978847Z",
          "shell.execute_reply.started": "2024-03-01T00:56:05.901737Z",
          "shell.execute_reply": "2024-03-01T00:56:05.977446Z"
        },
        "trusted": true,
        "id": "23VIrxxaZAUT"
      },
      "execution_count": null,
      "outputs": []
    },
    {
      "cell_type": "markdown",
      "source": [
        "<a name='SD'>\n",
        "\n",
        "## <b>2.1 <span style='color:#07CBCD'>|</span> Splitting Into y and X </b>"
      ],
      "metadata": {
        "id": "l9i3YJeDZAUT"
      }
    },
    {
      "cell_type": "code",
      "source": [
        "# Showing data\n",
        "X = df.drop(columns='level')\n",
        "y = df.level\n",
        "\n",
        "display(X.head())\n",
        "print(y[:5])"
      ],
      "metadata": {
        "execution": {
          "iopub.status.busy": "2024-03-01T00:56:05.980245Z",
          "iopub.execute_input": "2024-03-01T00:56:05.980477Z",
          "iopub.status.idle": "2024-03-01T00:56:05.999149Z",
          "shell.execute_reply.started": "2024-03-01T00:56:05.980454Z",
          "shell.execute_reply": "2024-03-01T00:56:05.997863Z"
        },
        "trusted": true,
        "id": "MWJZ4cjRZAUT"
      },
      "execution_count": null,
      "outputs": []
    },
    {
      "cell_type": "markdown",
      "source": [
        "# <p style=\"font-size:0%;color:white;\"><b> 3 - Data Visualization </b></p>\n",
        "\n",
        "***\n",
        "\n",
        "<a name='DV'>\n",
        "\n",
        "<div style=\"color:white;display:width;border-radius:10px;\n",
        "            background-color:#09E5E8;\n",
        "            font-size:200%;\n",
        "            font-family:computermodern;\n",
        "            letter-spacing:0.75px\">\n",
        "    <p style=\"padding: 8px;color:black;\"><b> 3 | Data Visualization </b></p>\n",
        "</div>"
      ],
      "metadata": {
        "id": "6bYQNzqbZAUT"
      }
    },
    {
      "cell_type": "code",
      "source": [
        "plt.figure(figsize=(6, 6))\n",
        "plt.title('Training Data', fontsize=20)\n",
        "plt.pie(df.level.value_counts(),\n",
        "    labels=mapping.keys(),\n",
        "    colors=['#FAC500','#0BFA00', '#0066FA','#FA0000'],\n",
        "    autopct=lambda p: '{:.2f}%\\n{:,.0f}'.format(p, p * sum(df.level.value_counts() /100)),\n",
        "    explode=tuple(0.01 for i in range(3)),\n",
        "    textprops={'fontsize': 20}\n",
        ")\n",
        "plt.show()"
      ],
      "metadata": {
        "execution": {
          "iopub.status.busy": "2024-03-01T00:56:06.001205Z",
          "iopub.execute_input": "2024-03-01T00:56:06.001541Z",
          "iopub.status.idle": "2024-03-01T00:56:06.145836Z",
          "shell.execute_reply.started": "2024-03-01T00:56:06.001512Z",
          "shell.execute_reply": "2024-03-01T00:56:06.144777Z"
        },
        "trusted": true,
        "id": "IVsBJESSZAUU"
      },
      "execution_count": null,
      "outputs": []
    },
    {
      "cell_type": "markdown",
      "source": [
        "### Correlation Plot\n",
        "\n",
        "A **correlation plot** is a quick and effective tool for identifying linear relationships between quantitative variables. It utilizes correlation coefficients, such as Pearson's, to quantify the strength and direction of these relationships.\n",
        "\n",
        "**Strengths:**\n",
        "1. **Linear Relationship Identification:** Quickly reveals linear associations between variables.\n",
        "2. **Interpretation:** Correlation coefficients are easy to interpret.\n",
        "\n",
        "**Limitations:**\n",
        "1. **Linearity Assumption:** Limited to linear relationships; may miss non-linear associations.\n",
        "2. **Outlier Sensitivity:** Prone to influence from outliers.\n",
        "3. **Quantitative Variables Only:** Applicable mainly to quantitative data.\n",
        "\n",
        "Despite these limitations, correlation plots serve as a valuable initial step in understanding relationships within a dataset, especially for their speed and simplicity."
      ],
      "metadata": {
        "id": "Qq7C1i8IZAUU"
      }
    },
    {
      "cell_type": "code",
      "source": [
        "# Correlation plot\n",
        "plt.figure(figsize=(20,15))\n",
        "sns.heatmap(df.corr(), annot=True, cmap=plt.cm.PuBu)\n",
        "plt.show()"
      ],
      "metadata": {
        "execution": {
          "iopub.status.busy": "2024-03-01T00:56:06.147871Z",
          "iopub.execute_input": "2024-03-01T00:56:06.148525Z",
          "iopub.status.idle": "2024-03-01T00:56:08.296455Z",
          "shell.execute_reply.started": "2024-03-01T00:56:06.14849Z",
          "shell.execute_reply": "2024-03-01T00:56:08.295705Z"
        },
        "trusted": true,
        "id": "4WhbExYgZAUU"
      },
      "execution_count": null,
      "outputs": []
    },
    {
      "cell_type": "code",
      "source": [
        "fig, ax = plt.subplots(ncols=4, nrows=6, figsize=(20, 20))\n",
        "ax = ax.flatten()\n",
        "\n",
        "for i, col in enumerate(df.columns):\n",
        "    sns.regplot(x=col, y='level', data=df, lowess=True, color=colors[i], ax=ax[i])\n",
        "    ax[i].set_title(col.title())\n",
        "\n",
        "plt.tight_layout(pad=0.1, w_pad=0.6, h_pad=1)\n",
        "plt.show()"
      ],
      "metadata": {
        "execution": {
          "iopub.status.busy": "2024-03-01T00:56:08.297512Z",
          "iopub.execute_input": "2024-03-01T00:56:08.298337Z",
          "iopub.status.idle": "2024-03-01T00:56:12.16014Z",
          "shell.execute_reply.started": "2024-03-01T00:56:08.298307Z",
          "shell.execute_reply": "2024-03-01T00:56:12.159064Z"
        },
        "trusted": true,
        "id": "QmJL1N_tZAUU"
      },
      "execution_count": null,
      "outputs": []
    },
    {
      "cell_type": "code",
      "source": [
        "fig, ax = plt.subplots(ncols=4, nrows=6, figsize=(20, 20))\n",
        "ax = ax.flatten()\n",
        "\n",
        "for i, col in enumerate(df.columns):\n",
        "    sns.violinplot(x=df['level'].replace(dict(zip(mapping.values(), mapping.keys()))),\n",
        "                   y=col, data=df, hue_order='level', palette='turbo', ax=ax[i])\n",
        "    ax[i].set_title(col.title())\n",
        "\n",
        "plt.tight_layout(pad=0.1, w_pad=0.2, h_pad=2.5)\n",
        "plt.show()"
      ],
      "metadata": {
        "execution": {
          "iopub.status.busy": "2024-03-01T00:56:12.161298Z",
          "iopub.execute_input": "2024-03-01T00:56:12.161573Z",
          "iopub.status.idle": "2024-03-01T00:56:16.132782Z",
          "shell.execute_reply.started": "2024-03-01T00:56:12.16155Z",
          "shell.execute_reply": "2024-03-01T00:56:16.131678Z"
        },
        "trusted": true,
        "id": "ov9BjxM5ZAUU"
      },
      "execution_count": null,
      "outputs": []
    },
    {
      "cell_type": "code",
      "source": [
        "fig, ax = plt.subplots(ncols=8, nrows=3, figsize=(20, 10))\n",
        "ax = ax.flatten()\n",
        "i = 0\n",
        "\n",
        "for k, v in df.items():\n",
        "    mu, sigma = norm.fit(v)\n",
        "    sns.histplot(v,\n",
        "                 kde=True,\n",
        "                 bins=20,\n",
        "                 color=colors[i],\n",
        "                 ax=ax[i],\n",
        "                 label=f'$\\mu={mu:.1f}$\\n$\\sigma={sigma:.1f}$')\n",
        "    ax[i].set_title(f'{k.title()}')\n",
        "    ax[i].legend()\n",
        "    i += 1\n",
        "\n",
        "plt.tight_layout(pad=0.2, w_pad=0.2, h_pad=2.5)\n",
        "plt.show()"
      ],
      "metadata": {
        "execution": {
          "iopub.status.busy": "2024-03-01T00:56:16.136431Z",
          "iopub.execute_input": "2024-03-01T00:56:16.13674Z",
          "iopub.status.idle": "2024-03-01T00:56:20.929145Z",
          "shell.execute_reply.started": "2024-03-01T00:56:16.136714Z",
          "shell.execute_reply": "2024-03-01T00:56:20.928209Z"
        },
        "trusted": true,
        "id": "2UqcM3TzZAUU"
      },
      "execution_count": null,
      "outputs": []
    },
    {
      "cell_type": "markdown",
      "source": [
        "# <p style=\"font-size:0%;color:white;\"><b> 4 - Model Building </b></p>\n",
        "\n",
        "***\n",
        "<a name='MB'>\n",
        "\n",
        "<div style=\"color:white;display:width;border-radius:10px;\n",
        "            background-color:#09E5E8;\n",
        "            font-size:200%;\n",
        "            font-family:computermodern;\n",
        "            letter-spacing:0.75px\">\n",
        "    <p style=\"padding: 8px;color:black;\"><b> 4 | Model Building </b></p>\n",
        "</div>\n",
        "    \n",
        "<a name='TT'>\n",
        "\n",
        "\n",
        "# <b> 4.1 <span style='color:#07CBCD'>|</span> Training Testing Splitting </b>"
      ],
      "metadata": {
        "id": "frSrFB9YZAUU"
      }
    },
    {
      "cell_type": "code",
      "source": [
        "X_train, X_test, y_train, y_test = train_test_split(X, y, test_size=0.3, random_state=40)\n",
        "print(f'Shapes - X Training: {X_train.shape} and X Testing {X_test.shape}')\n",
        "print(f'Shapes - Y Training: {y_train.shape} and Y Testing {y_test.shape}')\n",
        "\n",
        "print(f'\\nTraining output counts\\n{y_train.value_counts()}')"
      ],
      "metadata": {
        "execution": {
          "iopub.status.busy": "2024-03-01T00:56:20.930493Z",
          "iopub.execute_input": "2024-03-01T00:56:20.930761Z",
          "iopub.status.idle": "2024-03-01T00:56:20.938499Z",
          "shell.execute_reply.started": "2024-03-01T00:56:20.930739Z",
          "shell.execute_reply": "2024-03-01T00:56:20.937168Z"
        },
        "trusted": true,
        "id": "Njcb0IiLZAUV"
      },
      "execution_count": null,
      "outputs": []
    },
    {
      "cell_type": "markdown",
      "source": [
        "<a name='MR'>\n",
        "\n",
        "# <b> 4.2 <span style='color:#07CBCD'>|</span> Multinomial Logistic Regression </b>\n",
        "\n",
        "**Overview:**\n",
        "Multinomial Logistic Regression is a classification algorithm that extends logistic regression to handle multiple classes. It models the probability of each class and predicts the class with the highest probability.\n",
        "\n",
        "**Algorithm:**\n",
        "1. **Log-Odds Calculation:** Multinomial logistic regression calculates log-odds for each class relative to a reference class.\n",
        "2. **Softmax Function:** It then applies the softmax function to convert log-odds into probabilities, ensuring they sum to 1 across all classes.\n",
        "3. **Prediction:** The class with the highest probability is predicted as the final output.\n",
        "\n",
        "**Parameters:**\n",
        "- **penalty:** Regularization term. 'l2' is commonly used to prevent overfitting.\n",
        "- **C:** Inverse of regularization strength. Smaller values indicate stronger regularization.\n",
        "- **fit_intercept:** Whether to calculate the intercept for this model.\n",
        "- **solver:** Optimization algorithm. 'lbfgs' is suitable for multiclass problems.\n",
        "- **multi_class:** Method to handle multiple classes. 'auto' chooses 'ovr' for binary, and 'multinomial' for more than two classes."
      ],
      "metadata": {
        "id": "QFeJwy1WZAUV"
      }
    },
    {
      "cell_type": "code",
      "source": [
        "MR = LogisticRegression(multi_class='multinomial', solver='newton-cg', random_state=40)\n",
        "\n",
        "# fitting model\n",
        "MR.fit(X_train, y_train)\n",
        "\n",
        "# predicting with model\n",
        "MR_pred = MR.predict(X_test)\n",
        "\n",
        "# Printing model coefficents\n",
        "print('Intercept: \\n', MR.intercept_)\n",
        "print('Coefficients: \\n', MR.coef_)"
      ],
      "metadata": {
        "execution": {
          "iopub.status.busy": "2024-03-01T00:56:20.939531Z",
          "iopub.execute_input": "2024-03-01T00:56:20.939861Z",
          "iopub.status.idle": "2024-03-01T00:56:21.089327Z",
          "shell.execute_reply.started": "2024-03-01T00:56:20.939835Z",
          "shell.execute_reply": "2024-03-01T00:56:21.087739Z"
        },
        "trusted": true,
        "id": "nGxr3dWBZAUV"
      },
      "execution_count": null,
      "outputs": []
    },
    {
      "cell_type": "code",
      "source": [
        "def CM(y_test, y_pred_test, col_names, title='', cmap=plt.cm.Blues):\n",
        "\n",
        "    # Forming confusion matrix\n",
        "    CM = confusion_matrix(y_test, y_pred_test)\n",
        "    plt.figure(figsize=(9,7))\n",
        "    sns.heatmap(CM, annot=True, annot_kws={'size':15}, fmt=\".0f\", cmap=cmap, linewidths=5)\n",
        "\n",
        "    # labels in plot\n",
        "    tick_marks = np.arange(len(col_names))\n",
        "    plt.xticks(tick_marks + 0.5, col_names)\n",
        "    plt.yticks(tick_marks + 0.5, col_names, rotation=0)\n",
        "    plt.xlabel('Predicted label')\n",
        "    plt.ylabel('True label')\n",
        "    plt.title('Confusion Matrix ' + title)\n",
        "    plt.show()"
      ],
      "metadata": {
        "_kg_hide-input": true,
        "_kg_hide-output": true,
        "execution": {
          "iopub.status.busy": "2024-03-01T00:56:21.091341Z",
          "iopub.execute_input": "2024-03-01T00:56:21.091894Z",
          "iopub.status.idle": "2024-03-01T00:56:21.101035Z",
          "shell.execute_reply.started": "2024-03-01T00:56:21.091853Z",
          "shell.execute_reply": "2024-03-01T00:56:21.099691Z"
        },
        "trusted": true,
        "id": "XFRjwcm8ZAUV"
      },
      "execution_count": null,
      "outputs": []
    },
    {
      "cell_type": "markdown",
      "source": [
        "### <b> 4.2.1 <span style='color:#07CBCD'>|</span> Confusion Matrix of Multinomial Model </b>"
      ],
      "metadata": {
        "id": "VeYDA3ZGZAUV"
      }
    },
    {
      "cell_type": "code",
      "source": [
        "CM(y_test, MR_pred, col_names=['Low', 'Medium', 'High'], title='- Multinomial Regression')\n",
        "\n",
        "# Model report\n",
        "ml_accuracies['Multinomial Model'] = accuracy_score(y_test, MR_pred)\n",
        "print(classification_report(y_test, MR_pred))"
      ],
      "metadata": {
        "execution": {
          "iopub.status.busy": "2024-03-01T00:56:21.102678Z",
          "iopub.execute_input": "2024-03-01T00:56:21.103143Z",
          "iopub.status.idle": "2024-03-01T00:56:21.370028Z",
          "shell.execute_reply.started": "2024-03-01T00:56:21.10311Z",
          "shell.execute_reply": "2024-03-01T00:56:21.369188Z"
        },
        "trusted": true,
        "id": "RMVnTa5GZAUV"
      },
      "execution_count": null,
      "outputs": []
    },
    {
      "cell_type": "markdown",
      "source": [
        "<a name='RF'>\n",
        "\n",
        "# <b> 4.3 <span style='color:#07CBCD'>|</span> Random Forest Classifier </b>\n",
        "\n",
        "**Overview:**\n",
        "Random Forest Classifier is an ensemble learning method that constructs a multitude of decision trees during training and outputs the mode of the classes for classification tasks. It enhances the accuracy and robustness of predictions by combining the results from multiple trees.\n",
        "\n",
        "**Algorithm:**\n",
        "1. **Bootstrap Sampling:** Random Forest builds multiple decision trees by sampling, with replacement, from the training dataset (bootstrap sampling).\n",
        "2. **Feature Randomization:** At each node of the tree, a random subset of features is considered for splitting, adding diversity to the trees.\n",
        "3. **Voting Mechanism:** For classification, the mode (most frequent class) among the trees is the final predicted class.\n",
        "\n",
        "**Parameters:**\n",
        "- **n_estimators:** Number of trees in the forest. Higher values generally lead to better performance.\n",
        "- **criterion:** The function to measure the quality of a split. 'gini' for Gini impurity or 'entropy' for information gain.\n",
        "- **max_depth:** Maximum depth of the individual trees. Controls the complexity of each tree.\n",
        "- **min_samples_split:** Minimum number of samples required to split an internal node.\n",
        "- **min_samples_leaf:** Minimum number of samples required to be at a leaf node."
      ],
      "metadata": {
        "id": "EoJZnW2KZAUV"
      }
    },
    {
      "cell_type": "code",
      "source": [
        "def random_forest_n_best(X_train, y_train, X_test, y_test, n_list):\n",
        "\n",
        "    scores = []\n",
        "\n",
        "    for n in n_list:\n",
        "        RF = RandomForestClassifier(n_estimators=n, random_state=40)\n",
        "        RF.fit(X_train, y_train)\n",
        "        RF_pred = RF.predict(X_test)\n",
        "\n",
        "        scores.append(accuracy_score(y_test, RF_pred))\n",
        "\n",
        "    plt.plot(n_list, scores)\n",
        "    plt.xlabel('Value of n_estimators for Random Forest Classifier')\n",
        "    plt.ylabel('Testing Accuracy')\n",
        "    plt.grid(alpha=0.1)\n",
        "    plt.show()\n"
      ],
      "metadata": {
        "_kg_hide-input": true,
        "execution": {
          "iopub.status.busy": "2024-03-01T00:56:21.371272Z",
          "iopub.execute_input": "2024-03-01T00:56:21.371526Z",
          "iopub.status.idle": "2024-03-01T00:56:21.378192Z",
          "shell.execute_reply.started": "2024-03-01T00:56:21.371503Z",
          "shell.execute_reply": "2024-03-01T00:56:21.376684Z"
        },
        "trusted": true,
        "id": "zn3EPvmYZAUV"
      },
      "execution_count": null,
      "outputs": []
    },
    {
      "cell_type": "code",
      "source": [
        "# n Accuracy analysis\n",
        "random_forest_n_best(X_train, y_train, X_test, y_test, n_list=np.arange(1,20,1))"
      ],
      "metadata": {
        "execution": {
          "iopub.status.busy": "2024-03-01T00:56:21.379757Z",
          "iopub.execute_input": "2024-03-01T00:56:21.380208Z",
          "iopub.status.idle": "2024-03-01T00:56:21.911038Z",
          "shell.execute_reply.started": "2024-03-01T00:56:21.380175Z",
          "shell.execute_reply": "2024-03-01T00:56:21.909932Z"
        },
        "trusted": true,
        "id": "Lbgaenl_ZAUW"
      },
      "execution_count": null,
      "outputs": []
    },
    {
      "cell_type": "code",
      "source": [
        "# Define model and set random_state\n",
        "RF = RandomForestClassifier(n_estimators=3, random_state=40)\n",
        "\n",
        "# fitting model\n",
        "RF.fit(X_train, y_train)\n",
        "\n",
        "# predicting with model\n",
        "RF_pred = RF.predict(X_test)\n",
        "pd.Series(RF_pred).value_counts()"
      ],
      "metadata": {
        "execution": {
          "iopub.status.busy": "2024-03-01T00:56:21.912799Z",
          "iopub.execute_input": "2024-03-01T00:56:21.913192Z",
          "iopub.status.idle": "2024-03-01T00:56:21.932074Z",
          "shell.execute_reply.started": "2024-03-01T00:56:21.913159Z",
          "shell.execute_reply": "2024-03-01T00:56:21.931136Z"
        },
        "trusted": true,
        "id": "wbqABXwcZAUW"
      },
      "execution_count": null,
      "outputs": []
    },
    {
      "cell_type": "markdown",
      "source": [
        "### <b> 4.3.1 <span style='color:#07CBCD'>|</span> Random Forest Classifier Plot </b>"
      ],
      "metadata": {
        "id": "_FP7aFBmZAUW"
      }
    },
    {
      "cell_type": "code",
      "source": [
        "from sklearn import tree\n",
        "\n",
        "trees = len(RF.estimators_)\n",
        "cn = ['Low', 'Medium', 'High']\n",
        "\n",
        "fig, ax = plt.subplots(trees, 1, figsize=(30,10*trees))\n",
        "\n",
        "for i, forest in enumerate(RF.estimators_):\n",
        "    if trees > 1:\n",
        "        tree.plot_tree(forest,\n",
        "                       feature_names=X.columns,\n",
        "                       class_names=cn,\n",
        "                       filled=True,\n",
        "                       fontsize=11,\n",
        "                       ax=ax[i])\n",
        "    else:\n",
        "        tree.plot_tree(forest,\n",
        "                       feature_names=X.columns,\n",
        "                       class_names=cn,\n",
        "                       filled=True,\n",
        "                       fontsize=11)\n",
        "\n",
        "plt.tight_layout(h_pad=-10)\n",
        "plt.show()"
      ],
      "metadata": {
        "execution": {
          "iopub.status.busy": "2024-03-01T00:56:21.933629Z",
          "iopub.execute_input": "2024-03-01T00:56:21.934045Z",
          "iopub.status.idle": "2024-03-01T00:56:27.693008Z",
          "shell.execute_reply.started": "2024-03-01T00:56:21.93401Z",
          "shell.execute_reply": "2024-03-01T00:56:27.691831Z"
        },
        "trusted": true,
        "id": "qOKxsxlFZAUW"
      },
      "execution_count": null,
      "outputs": []
    },
    {
      "cell_type": "markdown",
      "source": [
        "### <b> 4.3.2 <span style='color:#07CBCD'>|</span> Confusion Matrix of Random Forest Classifier </b>"
      ],
      "metadata": {
        "id": "M9yTOBO2ZAUW"
      }
    },
    {
      "cell_type": "code",
      "source": [
        "CM(y_test, RF_pred, col_names=['Low', 'Medium', 'High'], title='- Random Forest', cmap='Purples')\n",
        "\n",
        "# Classification report for test data and predictions\n",
        "ml_accuracies['Random Forest'] = accuracy_score(y_test, RF_pred)\n",
        "print(classification_report(y_test, RF_pred))"
      ],
      "metadata": {
        "execution": {
          "iopub.status.busy": "2024-03-01T00:56:27.69444Z",
          "iopub.execute_input": "2024-03-01T00:56:27.694735Z",
          "iopub.status.idle": "2024-03-01T00:56:27.950533Z",
          "shell.execute_reply.started": "2024-03-01T00:56:27.694708Z",
          "shell.execute_reply": "2024-03-01T00:56:27.949637Z"
        },
        "trusted": true,
        "id": "vGamNF45ZAUW"
      },
      "execution_count": null,
      "outputs": []
    },
    {
      "cell_type": "markdown",
      "source": [
        "<a name='NB'>\n",
        "    \n",
        "# <b> 4.4 <span style='color:#07CBCD'>|</span> Gaussian Naive Bayes (GaussianNB) </b>\n",
        "    \n",
        "**Overview:**\n",
        "Gaussian Naive Bayes (GaussianNB) is a probabilistic classification algorithm based on Bayes' theorem. It assumes that features are conditionally independent within each class and that the distribution of each feature is Gaussian (normal).\n",
        "\n",
        "**Bayes' Theorem:**\n",
        "$$ P(y | X) = \\frac{P(X | y) \\cdot P(y)}{P(X)} $$\n",
        "- $ P(y | X) $: Posterior probability of class $ y $ given features $ X $\n",
        "- $ P(X | y) $: Likelihood of features $ X $ given class $ y $\n",
        "- $ P(y) $: Prior probability of class $ y $\n",
        "- $ P(X) $: Probability of features $ X $\n",
        "\n",
        "**Algorithm:**\n",
        "1. **Class Prior $P(y)$:** The parameter `priors` allows setting prior probabilities. If not specified, priors are adjusted according to the data.\n",
        "2. **Smoothing ($var\\_smoothing$):** A small portion of the largest variance is added to variances for stability during calculations.\n",
        "3. **Variance ($(var$):** Represents the variance of each feature per class. Larger variances give less weight to that feature.\n",
        "4. **Mean ($theta$):** Represents the mean of each feature per class. Used in the Gaussian distribution function.\n",
        "\n",
        "**Parameters:**\n",
        "- **priors:** Prior probabilities of the classes. If specified, priors are not adjusted according to the data.\n",
        "- **var\\_smoothing:** Portion of the largest variance of all features added to variances for stability during calculations.\n"
      ],
      "metadata": {
        "id": "v1Nid5WfZAUW"
      }
    },
    {
      "cell_type": "code",
      "source": [
        "# Train Naive Bayes\n",
        "nb_model = GaussianNB()\n",
        "nb_model.fit(X_train, y_train)\n",
        "\n",
        "# Predictions using Naive Bayes\n",
        "nb_pred = nb_model.predict(X_test)"
      ],
      "metadata": {
        "execution": {
          "iopub.status.busy": "2024-03-01T00:56:27.951633Z",
          "iopub.execute_input": "2024-03-01T00:56:27.951962Z",
          "iopub.status.idle": "2024-03-01T00:56:27.961743Z",
          "shell.execute_reply.started": "2024-03-01T00:56:27.951929Z",
          "shell.execute_reply": "2024-03-01T00:56:27.960822Z"
        },
        "trusted": true,
        "id": "IS1sJ4s9ZAUW"
      },
      "execution_count": null,
      "outputs": []
    },
    {
      "cell_type": "markdown",
      "source": [
        "### <b> 4.4.2 <span style='color:#07CBCD'>|</span> Confusion Matrix of Naive Bayes </b>"
      ],
      "metadata": {
        "id": "dZ8ZWRnQZAUW"
      }
    },
    {
      "cell_type": "code",
      "source": [
        "CM(y_test, nb_pred, col_names=['Low', 'Medium', 'High'], title='- Naive Bayes', cmap='Oranges')\n",
        "\n",
        "# View the classification report for test data and predictions\n",
        "ml_accuracies['Naive Bayes'] = accuracy_score(y_test, nb_pred)\n",
        "print(classification_report(y_test, nb_pred))"
      ],
      "metadata": {
        "execution": {
          "iopub.status.busy": "2024-03-01T00:56:27.962851Z",
          "iopub.execute_input": "2024-03-01T00:56:27.963179Z",
          "iopub.status.idle": "2024-03-01T00:56:28.237423Z",
          "shell.execute_reply.started": "2024-03-01T00:56:27.963153Z",
          "shell.execute_reply": "2024-03-01T00:56:28.236084Z"
        },
        "trusted": true,
        "id": "1k897gyCZAUX"
      },
      "execution_count": null,
      "outputs": []
    },
    {
      "cell_type": "markdown",
      "source": [
        "<a name='KNN'>\n",
        "\n",
        "# <b> 4.5 <span style='color:#07CBCD'>|</span> K-Nearest Neighbors (KNN) </b>\n",
        "\n",
        "**Overview:**\n",
        "K-Nearest Neighbors (KNN) is a versatile classification algorithm based on the principle of similarity. It classifies a data point by considering the majority class among its K nearest neighbors in the feature space.\n",
        "\n",
        "**Algorithm:**\n",
        "1. **Distance Metric:** KNN uses a distance metric (typically Euclidean distance) to measure the similarity between data points.\n",
        "2. **Nearest Neighbors:** It identifies the K data points in the training set that are closest to the input data point.\n",
        "3. **Majority Vote:** The class label for the input point is determined by the majority class among its K nearest neighbors.\n",
        "\n",
        "**Parameters:**\n",
        "- **n_neighbors:** Number of neighbors to consider. It influences the granularity of the decision boundary.\n",
        "- **weights:** Determines the weight of each neighbor. 'uniform' treats all neighbors equally, while 'distance' gives more weight to closer neighbors.\n",
        "- **algorithm:** Algorithm used to compute nearest neighbors. 'auto' selects the most efficient one based on the training data.\n",
        "- **leaf_size:** Leaf size passed to BallTree or KDTree. It can affect the speed of the construction and query, as well as the memory required.\n",
        "- **p:** Power parameter for the Minkowski metric. When \\( p = 1 \\), it is equivalent to using the Manhattan distance. When \\( p = 2 \\), it is equivalent to using the Euclidean distance.\n",
        "- **metric:** The distance metric used for the tree. 'minkowski' is a generalization of the Euclidean and Manhattan distances.\n",
        "- **metric_params:** Additional keyword arguments for the metric function.\n",
        "- **n_jobs:** Number of parallel jobs to run for neighbors search. Set to -1 to use all available processors.\n",
        "\n"
      ],
      "metadata": {
        "id": "9yvbStgBZAUX"
      }
    },
    {
      "cell_type": "code",
      "source": [
        "# Train K-Nearest Neighbors\n",
        "knn_model = KNeighborsClassifier(n_neighbors=3, weights='distance')\n",
        "knn_model.fit(X_train, y_train)\n",
        "\n",
        "# Predictions using Naive Bayes\n",
        "knn_pred = knn_model.predict(X_test)"
      ],
      "metadata": {
        "execution": {
          "iopub.status.busy": "2024-03-01T00:56:28.238772Z",
          "iopub.execute_input": "2024-03-01T00:56:28.239684Z",
          "iopub.status.idle": "2024-03-01T00:56:28.251693Z",
          "shell.execute_reply.started": "2024-03-01T00:56:28.239652Z",
          "shell.execute_reply": "2024-03-01T00:56:28.250667Z"
        },
        "trusted": true,
        "id": "sjcRraj_ZAUb"
      },
      "execution_count": null,
      "outputs": []
    },
    {
      "cell_type": "markdown",
      "source": [
        "### <b> 4.5.2 <span style='color:#07CBCD'>|</span> Confusion Matrix of KNN </b>"
      ],
      "metadata": {
        "id": "vhMFioClZAUb"
      }
    },
    {
      "cell_type": "code",
      "source": [
        "CM(y_test, knn_pred, col_names=['Low', 'Medium', 'High'], title='- KNN', cmap='Greens')\n",
        "\n",
        "# View the classification report for test data and predictions\n",
        "ml_accuracies['KNN'] = accuracy_score(y_test, knn_pred)\n",
        "print(classification_report(y_test, knn_pred))"
      ],
      "metadata": {
        "execution": {
          "iopub.status.busy": "2024-03-01T00:56:28.25287Z",
          "iopub.execute_input": "2024-03-01T00:56:28.253185Z",
          "iopub.status.idle": "2024-03-01T00:56:28.518483Z",
          "shell.execute_reply.started": "2024-03-01T00:56:28.253156Z",
          "shell.execute_reply": "2024-03-01T00:56:28.517849Z"
        },
        "trusted": true,
        "id": "SJszDmU0ZAUb"
      },
      "execution_count": null,
      "outputs": []
    },
    {
      "cell_type": "markdown",
      "source": [
        "<a name='SVM'>\n",
        "    \n",
        "# <b> 4.6 <span style='color:#07CBCD'>|</span> Support Vector Machines </b>\n",
        "\n",
        "SVM finds the best line (or hyperplane) to separate different groups in your data. This line maximizes the space between groups. Key points:\n",
        "\n",
        "- **Hyperplane Equation:** $ f(x) = \\text{sign}(\\mathbf{w} \\cdot \\mathbf{x} + b) $\n",
        "- **Goal:** Minimize the complexity of the line while correctly classifying points.\n",
        "- **Soft Margin SVM:** Allows for some errors when the data isn't perfectly separable.\n",
        "- **Kernel Trick:** Handles complex patterns by transforming data into a higher-dimensional space.\n",
        "\n",
        "Used in image recognition, text classification, and more for its effectiveness.\n",
        "\n",
        "\n",
        "**`SVC` class in scikit-learn offers key parameters for fine-tuning the SVM algorithm**\n",
        "\n",
        "- **C (Regularization Parameter):** Balances a smooth decision boundary (small values) vs. correct classification of training points (large values).\n",
        "- **Kernel:** Specifies the kernel type. 'rbf' (Radial Basis Function) is common for non-linear relationships.\n",
        "- **Gamma:** Influences the reach of a single training point's influence. 'scale' is often used, adapting to the dataset's characteristics.\n",
        "- **Probability:** Enables probability estimates. Useful for obtaining probability predictions, but it may slow down the calculation.\n",
        "\n",
        "These parameters significantly impact the model's behavior and can be adjusted to optimize performance for your specific dataset."
      ],
      "metadata": {
        "id": "lpXk5crUZAUb"
      }
    },
    {
      "cell_type": "code",
      "source": [
        "# Train Support Vector Machines\n",
        "svm_model = SVC(C=0.5, kernel='linear')\n",
        "svm_model.fit(X_train, y_train)\n",
        "\n",
        "# Predictions using Support Vector Machines\n",
        "svm_pred = svm_model.predict(X_test)"
      ],
      "metadata": {
        "execution": {
          "iopub.status.busy": "2024-03-01T00:56:28.519584Z",
          "iopub.execute_input": "2024-03-01T00:56:28.520188Z",
          "iopub.status.idle": "2024-03-01T00:56:28.534039Z",
          "shell.execute_reply.started": "2024-03-01T00:56:28.520155Z",
          "shell.execute_reply": "2024-03-01T00:56:28.532954Z"
        },
        "trusted": true,
        "id": "EWjL6ab6ZAUc"
      },
      "execution_count": null,
      "outputs": []
    },
    {
      "cell_type": "markdown",
      "source": [
        "### <b> 4.5.2 <span style='color:#07CBCD'>|</span> Confusion Matrix of Support Vector Machines </b>"
      ],
      "metadata": {
        "id": "vuMaTc4sZAUc"
      }
    },
    {
      "cell_type": "code",
      "source": [
        "CM(y_test, svm_pred, col_names=['Low', 'Medium', 'High'], title='- SVM', cmap='Reds')\n",
        "\n",
        "# View the classification report for test data and predictions\n",
        "ml_accuracies['SVM'] = accuracy_score(y_test, svm_pred)\n",
        "print(classification_report(y_test, svm_pred))"
      ],
      "metadata": {
        "execution": {
          "iopub.status.busy": "2024-03-01T00:56:28.535122Z",
          "iopub.execute_input": "2024-03-01T00:56:28.535395Z",
          "iopub.status.idle": "2024-03-01T00:56:28.7984Z",
          "shell.execute_reply.started": "2024-03-01T00:56:28.535368Z",
          "shell.execute_reply": "2024-03-01T00:56:28.797329Z"
        },
        "trusted": true,
        "id": "bMUrmMI8ZAUc"
      },
      "execution_count": null,
      "outputs": []
    },
    {
      "cell_type": "code",
      "source": [
        "# More coming soon!\n",
        "plt.figure(figsize=(15, 8))\n",
        "sns.barplot(\n",
        "    x=list(ml_accuracies.values()),\n",
        "    y=list(ml_accuracies.keys()),\n",
        ")\n",
        "plt.xlabel('Accuracy')\n",
        "plt.show()"
      ],
      "metadata": {
        "execution": {
          "iopub.status.busy": "2024-03-01T00:56:28.79986Z",
          "iopub.execute_input": "2024-03-01T00:56:28.800723Z",
          "iopub.status.idle": "2024-03-01T00:56:29.047245Z",
          "shell.execute_reply.started": "2024-03-01T00:56:28.800687Z",
          "shell.execute_reply": "2024-03-01T00:56:29.046285Z"
        },
        "trusted": true,
        "id": "6vetZCW_ZAUe"
      },
      "execution_count": null,
      "outputs": []
    }
  ]
}